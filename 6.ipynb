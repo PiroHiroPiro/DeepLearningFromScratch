{
 "cells": [
  {
   "cell_type": "markdown",
   "metadata": {},
   "source": [
    "# 6章 学習に関するテクニック"
   ]
  },
  {
   "cell_type": "markdown",
   "metadata": {},
   "source": [
    "## パラメータの更新"
   ]
  },
  {
   "cell_type": "markdown",
   "metadata": {},
   "source": [
    "### SGD"
   ]
  },
  {
   "cell_type": "code",
   "execution_count": 1,
   "metadata": {
    "collapsed": true
   },
   "outputs": [],
   "source": [
    "class SGD:\n",
    "    def __init__(self, lr = 0.01):\n",
    "        self.lr = lr\n",
    "        \n",
    "    def update(self, params, grads):\n",
    "        for key in params.keys():\n",
    "            params[key] -= self.lr * grads[key]"
   ]
  },
  {
   "cell_type": "markdown",
   "metadata": {},
   "source": [
    "### Momentum"
   ]
  },
  {
   "cell_type": "code",
   "execution_count": 2,
   "metadata": {
    "collapsed": true
   },
   "outputs": [],
   "source": [
    "import numpy as np"
   ]
  },
  {
   "cell_type": "code",
   "execution_count": 3,
   "metadata": {
    "collapsed": true
   },
   "outputs": [],
   "source": [
    "class Momentum:\n",
    "    def __init__(self, lr = 0.01, momentum = 0.9):\n",
    "        self.lr = lr\n",
    "        self.momentum = momentum\n",
    "        self.v = None\n",
    "    \n",
    "    def update(self, params, grads):\n",
    "        if self.v is None:\n",
    "            self.v = {}\n",
    "            for key, val in params.items():\n",
    "                self.v[key] = np.zeros_like(val)\n",
    "        \n",
    "        for key in params.keys():\n",
    "            self.v[key] = self.momentum * self.v[key] - self.lr * grads[key]\n",
    "            params[key] += self.v[key]"
   ]
  },
  {
   "cell_type": "markdown",
   "metadata": {},
   "source": [
    "### AdaGrad"
   ]
  },
  {
   "cell_type": "code",
   "execution_count": 4,
   "metadata": {
    "collapsed": true
   },
   "outputs": [],
   "source": [
    "class AdaGrad:\n",
    "    def __init__(self, lr = 0.01):\n",
    "        self.lr = lr\n",
    "        self.h = None\n",
    "        \n",
    "    def update(self, params, grads):\n",
    "        if self.h is None:\n",
    "            self.h = {}\n",
    "            for key, val in params.items():\n",
    "                self.h[key] = np.zeros_like(val)\n",
    "        \n",
    "        for key in params.keys():\n",
    "            self.h[key] += grads[key] * grads[key]\n",
    "            params[key] -= self.lr * grads[key] / (np.sqrt(self.h[key]) + 1e-7)"
   ]
  },
  {
   "cell_type": "markdown",
   "metadata": {},
   "source": [
    "## 正則化"
   ]
  },
  {
   "cell_type": "markdown",
   "metadata": {},
   "source": [
    "### 過学習"
   ]
  },
  {
   "cell_type": "code",
   "execution_count": 5,
   "metadata": {
    "scrolled": true
   },
   "outputs": [
    {
     "name": "stdout",
     "output_type": "stream",
     "text": [
      "epoch:0, train acc:0.08, test acc:0.1325\n",
      "epoch:1, train acc:0.106666666667, test acc:0.1437\n",
      "epoch:2, train acc:0.133333333333, test acc:0.1516\n",
      "epoch:3, train acc:0.166666666667, test acc:0.159\n",
      "epoch:4, train acc:0.186666666667, test acc:0.1735\n",
      "epoch:5, train acc:0.206666666667, test acc:0.1871\n",
      "epoch:6, train acc:0.24, test acc:0.2116\n",
      "epoch:7, train acc:0.29, test acc:0.2458\n",
      "epoch:8, train acc:0.323333333333, test acc:0.261\n",
      "epoch:9, train acc:0.353333333333, test acc:0.2829\n",
      "epoch:10, train acc:0.386666666667, test acc:0.3018\n",
      "epoch:11, train acc:0.396666666667, test acc:0.3181\n",
      "epoch:12, train acc:0.403333333333, test acc:0.3195\n",
      "epoch:13, train acc:0.42, test acc:0.3365\n",
      "epoch:14, train acc:0.44, test acc:0.3508\n",
      "epoch:15, train acc:0.466666666667, test acc:0.3619\n",
      "epoch:16, train acc:0.46, test acc:0.3688\n",
      "epoch:17, train acc:0.48, test acc:0.3813\n",
      "epoch:18, train acc:0.49, test acc:0.397\n",
      "epoch:19, train acc:0.496666666667, test acc:0.3985\n",
      "epoch:20, train acc:0.51, test acc:0.4067\n",
      "epoch:21, train acc:0.526666666667, test acc:0.4163\n",
      "epoch:22, train acc:0.536666666667, test acc:0.4219\n",
      "epoch:23, train acc:0.566666666667, test acc:0.4314\n",
      "epoch:24, train acc:0.586666666667, test acc:0.4467\n",
      "epoch:25, train acc:0.59, test acc:0.4478\n",
      "epoch:26, train acc:0.63, test acc:0.4729\n",
      "epoch:27, train acc:0.643333333333, test acc:0.4838\n",
      "epoch:28, train acc:0.646666666667, test acc:0.4926\n",
      "epoch:29, train acc:0.66, test acc:0.5119\n",
      "epoch:30, train acc:0.666666666667, test acc:0.5177\n",
      "epoch:31, train acc:0.703333333333, test acc:0.5307\n",
      "epoch:32, train acc:0.733333333333, test acc:0.5534\n",
      "epoch:33, train acc:0.756666666667, test acc:0.5687\n",
      "epoch:34, train acc:0.76, test acc:0.5879\n",
      "epoch:35, train acc:0.78, test acc:0.5941\n",
      "epoch:36, train acc:0.796666666667, test acc:0.617\n",
      "epoch:37, train acc:0.793333333333, test acc:0.6185\n",
      "epoch:38, train acc:0.8, test acc:0.6221\n",
      "epoch:39, train acc:0.816666666667, test acc:0.6145\n",
      "epoch:40, train acc:0.803333333333, test acc:0.6242\n",
      "epoch:41, train acc:0.803333333333, test acc:0.6173\n",
      "epoch:42, train acc:0.82, test acc:0.6293\n",
      "epoch:43, train acc:0.83, test acc:0.6417\n",
      "epoch:44, train acc:0.846666666667, test acc:0.6385\n",
      "epoch:45, train acc:0.863333333333, test acc:0.6619\n",
      "epoch:46, train acc:0.863333333333, test acc:0.6708\n",
      "epoch:47, train acc:0.89, test acc:0.6878\n",
      "epoch:48, train acc:0.876666666667, test acc:0.6668\n",
      "epoch:49, train acc:0.893333333333, test acc:0.6856\n",
      "epoch:50, train acc:0.88, test acc:0.6805\n",
      "epoch:51, train acc:0.9, test acc:0.697\n",
      "epoch:52, train acc:0.893333333333, test acc:0.6837\n",
      "epoch:53, train acc:0.9, test acc:0.6966\n",
      "epoch:54, train acc:0.906666666667, test acc:0.702\n",
      "epoch:55, train acc:0.913333333333, test acc:0.7023\n",
      "epoch:56, train acc:0.91, test acc:0.6995\n",
      "epoch:57, train acc:0.906666666667, test acc:0.7155\n",
      "epoch:58, train acc:0.913333333333, test acc:0.7173\n",
      "epoch:59, train acc:0.92, test acc:0.7174\n",
      "epoch:60, train acc:0.91, test acc:0.7151\n",
      "epoch:61, train acc:0.923333333333, test acc:0.7217\n",
      "epoch:62, train acc:0.93, test acc:0.7247\n",
      "epoch:63, train acc:0.933333333333, test acc:0.7242\n",
      "epoch:64, train acc:0.933333333333, test acc:0.7274\n",
      "epoch:65, train acc:0.933333333333, test acc:0.7287\n",
      "epoch:66, train acc:0.93, test acc:0.7341\n",
      "epoch:67, train acc:0.936666666667, test acc:0.7313\n",
      "epoch:68, train acc:0.946666666667, test acc:0.7259\n",
      "epoch:69, train acc:0.946666666667, test acc:0.73\n",
      "epoch:70, train acc:0.946666666667, test acc:0.7291\n",
      "epoch:71, train acc:0.946666666667, test acc:0.7288\n",
      "epoch:72, train acc:0.956666666667, test acc:0.7289\n",
      "epoch:73, train acc:0.95, test acc:0.7352\n",
      "epoch:74, train acc:0.963333333333, test acc:0.7341\n",
      "epoch:75, train acc:0.956666666667, test acc:0.7269\n",
      "epoch:76, train acc:0.96, test acc:0.7415\n",
      "epoch:77, train acc:0.96, test acc:0.7349\n",
      "epoch:78, train acc:0.96, test acc:0.7397\n",
      "epoch:79, train acc:0.963333333333, test acc:0.7306\n",
      "epoch:80, train acc:0.96, test acc:0.7374\n",
      "epoch:81, train acc:0.963333333333, test acc:0.7377\n",
      "epoch:82, train acc:0.97, test acc:0.738\n",
      "epoch:83, train acc:0.96, test acc:0.7446\n",
      "epoch:84, train acc:0.963333333333, test acc:0.7434\n",
      "epoch:85, train acc:0.97, test acc:0.7507\n",
      "epoch:86, train acc:0.973333333333, test acc:0.7454\n",
      "epoch:87, train acc:0.966666666667, test acc:0.743\n",
      "epoch:88, train acc:0.97, test acc:0.752\n",
      "epoch:89, train acc:0.97, test acc:0.7524\n",
      "epoch:90, train acc:0.97, test acc:0.7464\n",
      "epoch:91, train acc:0.98, test acc:0.7442\n",
      "epoch:92, train acc:0.973333333333, test acc:0.7503\n",
      "epoch:93, train acc:0.973333333333, test acc:0.7516\n",
      "epoch:94, train acc:0.973333333333, test acc:0.7489\n",
      "epoch:95, train acc:0.973333333333, test acc:0.7482\n",
      "epoch:96, train acc:0.973333333333, test acc:0.7502\n",
      "epoch:97, train acc:0.973333333333, test acc:0.7536\n",
      "epoch:98, train acc:0.973333333333, test acc:0.753\n",
      "epoch:99, train acc:0.98, test acc:0.7545\n",
      "epoch:100, train acc:0.973333333333, test acc:0.7566\n",
      "epoch:101, train acc:0.973333333333, test acc:0.7552\n",
      "epoch:102, train acc:0.973333333333, test acc:0.7559\n",
      "epoch:103, train acc:0.973333333333, test acc:0.7544\n",
      "epoch:104, train acc:0.98, test acc:0.7496\n",
      "epoch:105, train acc:0.98, test acc:0.7453\n",
      "epoch:106, train acc:0.983333333333, test acc:0.7523\n",
      "epoch:107, train acc:0.986666666667, test acc:0.7545\n",
      "epoch:108, train acc:0.986666666667, test acc:0.7559\n",
      "epoch:109, train acc:0.983333333333, test acc:0.7498\n",
      "epoch:110, train acc:0.983333333333, test acc:0.7522\n",
      "epoch:111, train acc:0.983333333333, test acc:0.7583\n",
      "epoch:112, train acc:0.983333333333, test acc:0.7568\n",
      "epoch:113, train acc:0.986666666667, test acc:0.7567\n",
      "epoch:114, train acc:0.99, test acc:0.7584\n",
      "epoch:115, train acc:0.99, test acc:0.7575\n",
      "epoch:116, train acc:0.99, test acc:0.7564\n",
      "epoch:117, train acc:0.99, test acc:0.7558\n",
      "epoch:118, train acc:0.986666666667, test acc:0.7593\n",
      "epoch:119, train acc:0.99, test acc:0.7563\n",
      "epoch:120, train acc:0.986666666667, test acc:0.7608\n",
      "epoch:121, train acc:0.99, test acc:0.7608\n",
      "epoch:122, train acc:0.99, test acc:0.7607\n",
      "epoch:123, train acc:0.99, test acc:0.7603\n",
      "epoch:124, train acc:0.99, test acc:0.7563\n",
      "epoch:125, train acc:0.993333333333, test acc:0.7606\n",
      "epoch:126, train acc:0.993333333333, test acc:0.7623\n",
      "epoch:127, train acc:0.993333333333, test acc:0.7583\n",
      "epoch:128, train acc:0.993333333333, test acc:0.7588\n",
      "epoch:129, train acc:0.993333333333, test acc:0.7605\n",
      "epoch:130, train acc:0.993333333333, test acc:0.7594\n",
      "epoch:131, train acc:0.993333333333, test acc:0.7574\n",
      "epoch:132, train acc:0.993333333333, test acc:0.7593\n",
      "epoch:133, train acc:0.996666666667, test acc:0.7577\n",
      "epoch:134, train acc:0.993333333333, test acc:0.7586\n",
      "epoch:135, train acc:0.993333333333, test acc:0.7637\n",
      "epoch:136, train acc:0.993333333333, test acc:0.757\n",
      "epoch:137, train acc:1.0, test acc:0.7605\n",
      "epoch:138, train acc:0.993333333333, test acc:0.7587\n",
      "epoch:139, train acc:0.993333333333, test acc:0.7614\n",
      "epoch:140, train acc:0.996666666667, test acc:0.7634\n",
      "epoch:141, train acc:1.0, test acc:0.7589\n",
      "epoch:142, train acc:1.0, test acc:0.7605\n",
      "epoch:143, train acc:0.996666666667, test acc:0.7616\n",
      "epoch:144, train acc:0.996666666667, test acc:0.7632\n",
      "epoch:145, train acc:1.0, test acc:0.7623\n",
      "epoch:146, train acc:1.0, test acc:0.762\n",
      "epoch:147, train acc:1.0, test acc:0.7613\n",
      "epoch:148, train acc:1.0, test acc:0.7593\n",
      "epoch:149, train acc:1.0, test acc:0.7603\n",
      "epoch:150, train acc:1.0, test acc:0.7618\n",
      "epoch:151, train acc:0.996666666667, test acc:0.7617\n",
      "epoch:152, train acc:1.0, test acc:0.7614\n",
      "epoch:153, train acc:0.996666666667, test acc:0.7629\n",
      "epoch:154, train acc:0.996666666667, test acc:0.7642\n",
      "epoch:155, train acc:1.0, test acc:0.7621\n",
      "epoch:156, train acc:1.0, test acc:0.7625\n",
      "epoch:157, train acc:1.0, test acc:0.7628\n",
      "epoch:158, train acc:1.0, test acc:0.7635\n",
      "epoch:159, train acc:0.996666666667, test acc:0.7641\n",
      "epoch:160, train acc:0.996666666667, test acc:0.7657\n",
      "epoch:161, train acc:0.996666666667, test acc:0.7678\n",
      "epoch:162, train acc:1.0, test acc:0.7655\n",
      "epoch:163, train acc:0.996666666667, test acc:0.7654\n",
      "epoch:164, train acc:1.0, test acc:0.7656\n",
      "epoch:165, train acc:1.0, test acc:0.7671\n",
      "epoch:166, train acc:1.0, test acc:0.7663\n",
      "epoch:167, train acc:1.0, test acc:0.7644\n",
      "epoch:168, train acc:1.0, test acc:0.7664\n",
      "epoch:169, train acc:1.0, test acc:0.7651\n",
      "epoch:170, train acc:1.0, test acc:0.7672\n",
      "epoch:171, train acc:1.0, test acc:0.7652\n"
     ]
    },
    {
     "name": "stdout",
     "output_type": "stream",
     "text": [
      "epoch:172, train acc:1.0, test acc:0.7642\n",
      "epoch:173, train acc:1.0, test acc:0.7621\n",
      "epoch:174, train acc:1.0, test acc:0.7663\n",
      "epoch:175, train acc:1.0, test acc:0.7651\n",
      "epoch:176, train acc:1.0, test acc:0.7661\n",
      "epoch:177, train acc:1.0, test acc:0.765\n",
      "epoch:178, train acc:1.0, test acc:0.7658\n",
      "epoch:179, train acc:1.0, test acc:0.7658\n",
      "epoch:180, train acc:1.0, test acc:0.7667\n",
      "epoch:181, train acc:1.0, test acc:0.7673\n",
      "epoch:182, train acc:1.0, test acc:0.7661\n",
      "epoch:183, train acc:1.0, test acc:0.7663\n",
      "epoch:184, train acc:1.0, test acc:0.7666\n",
      "epoch:185, train acc:1.0, test acc:0.765\n",
      "epoch:186, train acc:1.0, test acc:0.767\n",
      "epoch:187, train acc:1.0, test acc:0.769\n",
      "epoch:188, train acc:1.0, test acc:0.7695\n",
      "epoch:189, train acc:1.0, test acc:0.7675\n",
      "epoch:190, train acc:1.0, test acc:0.7665\n",
      "epoch:191, train acc:1.0, test acc:0.767\n",
      "epoch:192, train acc:1.0, test acc:0.7668\n",
      "epoch:193, train acc:1.0, test acc:0.7656\n",
      "epoch:194, train acc:1.0, test acc:0.7679\n",
      "epoch:195, train acc:1.0, test acc:0.767\n",
      "epoch:196, train acc:1.0, test acc:0.7696\n",
      "epoch:197, train acc:1.0, test acc:0.7669\n",
      "epoch:198, train acc:1.0, test acc:0.7676\n",
      "epoch:199, train acc:1.0, test acc:0.7679\n",
      "epoch:200, train acc:1.0, test acc:0.7694\n"
     ]
    }
   ],
   "source": [
    "import sys, os\n",
    "os.chdir('./deep-learning-from-scratch/ch06')\n",
    "sys.path.append(os.pardir)\n",
    "from dataset.mnist import load_mnist\n",
    "import matplotlib.pyplot as plt\n",
    "from common.multi_layer_net import MultiLayerNet\n",
    "from common.optimizer import SGD\n",
    "\n",
    "%matplotlib inline\n",
    "\n",
    "(x_train, t_train), (x_test, t_test) = load_mnist(normalize = True)\n",
    "\n",
    "x_train = x_train[:300]\n",
    "t_train = t_train[:300]\n",
    "\n",
    "network = MultiLayerNet(input_size = 784, hidden_size_list = [100, 100, 100, 100, 100, 100], output_size = 10)\n",
    "optimizer = SGD(lr = 0.01)\n",
    "\n",
    "max_epochs = 201\n",
    "train_size = x_train.shape[0]\n",
    "batch_size = 100\n",
    "\n",
    "train_loss_list = []\n",
    "train_acc_list = []\n",
    "test_acc_list = []\n",
    "\n",
    "iter_per_epoch = max(train_size / batch_size, 1)\n",
    "epoch_cnt = 0\n",
    "\n",
    "for i in range(1000000000):\n",
    "    batch_mask = np.random.choice(train_size, batch_size)\n",
    "    x_batch = x_train[batch_mask]\n",
    "    t_batch = t_train[batch_mask]\n",
    "\n",
    "    grads = network.gradient(x_batch, t_batch)\n",
    "    optimizer.update(network.params, grads)\n",
    "\n",
    "    if i % iter_per_epoch == 0:\n",
    "        train_acc = network.accuracy(x_train, t_train)\n",
    "        test_acc = network.accuracy(x_test, t_test)\n",
    "        train_acc_list.append(train_acc)\n",
    "        test_acc_list.append(test_acc)\n",
    "\n",
    "        print(\"epoch:\" + str(epoch_cnt) + \", train acc:\" + str(train_acc) + \", test acc:\" + str(test_acc))\n",
    "\n",
    "        epoch_cnt += 1\n",
    "        if epoch_cnt >= max_epochs:\n",
    "            break"
   ]
  },
  {
   "cell_type": "code",
   "execution_count": 6,
   "metadata": {},
   "outputs": [
    {
     "data": {
      "image/png": "[encoded data removed]",
      "text/plain": [
       "<matplotlib.figure.Figure at 0x13fe0605898>"
      ]
     },
     "metadata": {},
     "output_type": "display_data"
    }
   ],
   "source": [
    "x = np.arange(max_epochs)\n",
    "plt.plot(x, train_acc_list)\n",
    "plt.plot(x, test_acc_list, linestyle = \"--\")\n",
    "plt.ylim(0, 1.0)\n",
    "plt.show()"
   ]
  },
  {
   "cell_type": "markdown",
   "metadata": {},
   "source": [
    "### Dropout"
   ]
  },
  {
   "cell_type": "code",
   "execution_count": 7,
   "metadata": {
    "collapsed": true
   },
   "outputs": [],
   "source": [
    "class Dropout:\n",
    "    def __init__(self, dropout_ratio = 0.5):\n",
    "        self.dropout_ratio = dropout_ratio\n",
    "        self.mask = None\n",
    "        \n",
    "    def forward(self, x, train_flg = True):\n",
    "        if train_flg:\n",
    "            self.mask = np.random.rand( * x.shape) > self.dropout_ratio\n",
    "            return x * self.mask\n",
    "        else:\n",
    "            return x * (1.0 - self.dropout_ratio)\n",
    "        \n",
    "    def backward(self, dout):\n",
    "        return dout * self.mask"
   ]
  },
  {
   "cell_type": "code",
   "execution_count": null,
   "metadata": {
    "collapsed": true
   },
   "outputs": [],
   "source": []
  }
 ],
 "metadata": {
  "kernelspec": {
   "display_name": "Python 3",
   "language": "python",
   "name": "python3"
  },
  "language_info": {
   "codemirror_mode": {
    "name": "ipython",
    "version": 3
   },
   "file_extension": ".py",
   "mimetype": "text/x-python",
   "name": "python",
   "nbconvert_exporter": "python",
   "pygments_lexer": "ipython3",
   "version": "3.5.2"
  }
 },
 "nbformat": 4,
 "nbformat_minor": 2
}
